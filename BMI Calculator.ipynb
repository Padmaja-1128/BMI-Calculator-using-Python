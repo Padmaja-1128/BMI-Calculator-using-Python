{
 "cells": [
  {
   "cell_type": "code",
   "execution_count": 94,
   "id": "66895c80-c9f2-4b7d-9ecf-4bc14f88b724",
   "metadata": {},
   "outputs": [
    {
     "name": "stdin",
     "output_type": "stream",
     "text": [
      "Enter your name:  Padmaja\n",
      "Enter your weight in kilograms:  78\n",
      "Enter your height in meters:  1.67\n"
     ]
    },
    {
     "name": "stdout",
     "output_type": "stream",
     "text": [
      "27.968016063681024\n",
      "Padmaja, you are  Overweight. You've gotta get up from that chair and start excercising\n"
     ]
    }
   ],
   "source": [
    "\n",
    "\n",
    "#BMI= weight in kilograms (kg) / height in meters (m) squared\n",
    "\n",
    "\n",
    "name = input(\"Enter your name: \")\n",
    "\n",
    "weight = int(input(\"Enter your weight in kilograms: \"))\n",
    "height = float(input(\"Enter your height in meters: \"))\n",
    "BMI = (weight)/(height*height)\n",
    "print(BMI)\n",
    "\n",
    "if(BMI>0):\n",
    "    if(BMI< 18.5):\n",
    "        print(name +\", you are Underweight.\")\n",
    "    elif(BMI<=24.9):\n",
    "        print(name +\", you are Healthy weight. You got it champ\")\n",
    "    elif(BMI<29.9):\n",
    "        print(name +\", you are  Overweight. You've gotta get up from that chair and start excercising\")\n",
    "    elif(BMI<34.9):\n",
    "        print(name +\", you are obese.\")\n",
    "    elif(BMI<39.9):\n",
    "        print(name +\", you are severly obese.\")\n",
    "    else:\n",
    "        print(name +\", you are morbidly obese\")\n",
    "else:\n",
    "    print(\"Enter valid input\")\n",
    "\n",
    "\n",
    "    \n"
   ]
  },
  {
   "cell_type": "code",
   "execution_count": null,
   "id": "c25841a5-3364-449d-9e64-f8a30c95bd53",
   "metadata": {},
   "outputs": [],
   "source": []
  },
  {
   "cell_type": "code",
   "execution_count": null,
   "id": "699a3010-35dc-4acb-82e0-8ea85a2e6dac",
   "metadata": {},
   "outputs": [],
   "source": [
    "\n"
   ]
  },
  {
   "cell_type": "code",
   "execution_count": null,
   "id": "662a1811-0438-42c4-ae95-1c7600cc8684",
   "metadata": {},
   "outputs": [],
   "source": []
  },
  {
   "cell_type": "code",
   "execution_count": null,
   "id": "3fd2b293-a8da-4bec-b115-78de388fc336",
   "metadata": {},
   "outputs": [],
   "source": []
  },
  {
   "cell_type": "code",
   "execution_count": null,
   "id": "ef9efc0b-df4b-40bc-9972-6f75675aa3e1",
   "metadata": {},
   "outputs": [],
   "source": []
  },
  {
   "cell_type": "code",
   "execution_count": null,
   "id": "5dfe2c30-b6fb-4b1f-bf00-b00db5936112",
   "metadata": {},
   "outputs": [],
   "source": []
  },
  {
   "cell_type": "code",
   "execution_count": null,
   "id": "5e57c825-52c9-4739-8f5c-10b195ce3de1",
   "metadata": {},
   "outputs": [],
   "source": [
    "\n",
    "\n"
   ]
  }
 ],
 "metadata": {
  "kernelspec": {
   "display_name": "Python 3 (ipykernel)",
   "language": "python",
   "name": "python3"
  },
  "language_info": {
   "codemirror_mode": {
    "name": "ipython",
    "version": 3
   },
   "file_extension": ".py",
   "mimetype": "text/x-python",
   "name": "python",
   "nbconvert_exporter": "python",
   "pygments_lexer": "ipython3",
   "version": "3.12.4"
  }
 },
 "nbformat": 4,
 "nbformat_minor": 5
}
